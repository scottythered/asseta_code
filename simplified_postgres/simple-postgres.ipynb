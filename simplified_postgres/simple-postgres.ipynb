{
 "cells": [
  {
   "cell_type": "code",
   "execution_count": 1,
   "metadata": {},
   "outputs": [],
   "source": [
    "import assettapg as assetta\n",
    "import pandas as pd\n",
    "import psycopg2\n",
    "pd.set_option('display.max_columns', 500)\n",
    "pd.set_option('display.width', 1000)"
   ]
  },
  {
   "cell_type": "code",
   "execution_count": 2,
   "metadata": {},
   "outputs": [],
   "source": [
    "try:\n",
    "    conn = psycopg2.connect(\"dbname='xxxx' user='xxxx' host='xxxx' port='xxxx' password='xxxxxx'\")\n",
    "    cur = conn.cursor()\n",
    "except:\n",
    "    print(\"Unable to connect to the database\")"
   ]
  },
  {
   "cell_type": "code",
   "execution_count": 3,
   "metadata": {},
   "outputs": [
    {
     "data": {
      "text/html": [
       "<div>\n",
       "<style scoped>\n",
       "    .dataframe tbody tr th:only-of-type {\n",
       "        vertical-align: middle;\n",
       "    }\n",
       "\n",
       "    .dataframe tbody tr th {\n",
       "        vertical-align: top;\n",
       "    }\n",
       "\n",
       "    .dataframe thead th {\n",
       "        text-align: right;\n",
       "    }\n",
       "</style>\n",
       "<table border=\"1\" class=\"dataframe\">\n",
       "  <thead>\n",
       "    <tr style=\"text-align: right;\">\n",
       "      <th></th>\n",
       "      <th>name</th>\n",
       "      <th>owner_id</th>\n",
       "      <th>created_at</th>\n",
       "      <th>updated_at</th>\n",
       "      <th>logo_file_name</th>\n",
       "      <th>logo_content_type</th>\n",
       "      <th>logo_file_size</th>\n",
       "      <th>logo_updated_at</th>\n",
       "      <th>sfdc_id</th>\n",
       "      <th>parent_id</th>\n",
       "      <th>website</th>\n",
       "      <th>display_listings</th>\n",
       "      <th>billing_country</th>\n",
       "      <th>type</th>\n",
       "      <th>preferences</th>\n",
       "      <th>display_efs</th>\n",
       "      <th>market_efs</th>\n",
       "      <th>last_efs_update</th>\n",
       "    </tr>\n",
       "    <tr>\n",
       "      <th>id</th>\n",
       "      <th></th>\n",
       "      <th></th>\n",
       "      <th></th>\n",
       "      <th></th>\n",
       "      <th></th>\n",
       "      <th></th>\n",
       "      <th></th>\n",
       "      <th></th>\n",
       "      <th></th>\n",
       "      <th></th>\n",
       "      <th></th>\n",
       "      <th></th>\n",
       "      <th></th>\n",
       "      <th></th>\n",
       "      <th></th>\n",
       "      <th></th>\n",
       "      <th></th>\n",
       "      <th></th>\n",
       "    </tr>\n",
       "  </thead>\n",
       "  <tbody>\n",
       "    <tr>\n",
       "      <th>1406</th>\n",
       "      <td>Dynamic MOS Technology</td>\n",
       "      <td>7</td>\n",
       "      <td>NaT</td>\n",
       "      <td>2019-07-15 21:26:08.815652</td>\n",
       "      <td>None</td>\n",
       "      <td>None</td>\n",
       "      <td>None</td>\n",
       "      <td>None</td>\n",
       "      <td>001d000000IRDH7AAP</td>\n",
       "      <td>NaN</td>\n",
       "      <td>http://www.dynamicmos.com/</td>\n",
       "      <td>True</td>\n",
       "      <td>Taiwan R.O.C.</td>\n",
       "      <td>Broker</td>\n",
       "      <td>{}</td>\n",
       "      <td>True</td>\n",
       "      <td>True</td>\n",
       "      <td>2019-05-14</td>\n",
       "    </tr>\n",
       "  </tbody>\n",
       "</table>\n",
       "</div>"
      ],
      "text/plain": [
       "                        name  owner_id created_at                 updated_at logo_file_name logo_content_type logo_file_size logo_updated_at             sfdc_id  parent_id                     website  display_listings billing_country    type preferences  display_efs  market_efs last_efs_update\n",
       "id                                                                                                                                                                                                                                                                                                    \n",
       "1406  Dynamic MOS Technology         7        NaT 2019-07-15 21:26:08.815652           None              None           None            None  001d000000IRDH7AAP        NaN  http://www.dynamicmos.com/              True   Taiwan R.O.C.  Broker          {}         True        True      2019-05-14"
      ]
     },
     "execution_count": 3,
     "metadata": {},
     "output_type": "execute_result"
    }
   ],
   "source": [
    "# retrieve all EFS accounts\n",
    "df = assetta.get_all_data(cur, 'accounts')\n",
    "df[df['name'].str.contains('Dynamic MOS')]"
   ]
  },
  {
   "cell_type": "code",
   "execution_count": 4,
   "metadata": {},
   "outputs": [
    {
     "name": "stdout",
     "output_type": "stream",
     "text": [
      "27\n"
     ]
    }
   ],
   "source": [
    "# retrieve all active listings for a particular account\n",
    "df2 = assetta.active_listings(cur, 1406)"
   ]
  },
  {
   "cell_type": "code",
   "execution_count": 5,
   "metadata": {},
   "outputs": [
    {
     "name": "stdout",
     "output_type": "stream",
     "text": [
      "7657\n"
     ]
    }
   ],
   "source": [
    "# retrieve all active listings\n",
    "df3 = assetta.active_listings(cur, 'all')"
   ]
  },
  {
   "cell_type": "code",
   "execution_count": null,
   "metadata": {},
   "outputs": [],
   "source": []
  }
 ],
 "metadata": {
  "kernelspec": {
   "display_name": "Python 3",
   "language": "python",
   "name": "python3"
  },
  "language_info": {
   "codemirror_mode": {
    "name": "ipython",
    "version": 3
   },
   "file_extension": ".py",
   "mimetype": "text/x-python",
   "name": "python",
   "nbconvert_exporter": "python",
   "pygments_lexer": "ipython3",
   "version": "3.6.8"
  }
 },
 "nbformat": 4,
 "nbformat_minor": 2
}
